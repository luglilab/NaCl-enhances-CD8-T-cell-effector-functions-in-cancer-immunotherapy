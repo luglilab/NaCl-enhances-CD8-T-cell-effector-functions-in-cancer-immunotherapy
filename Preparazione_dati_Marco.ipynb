{
 "cells": [
  {
   "cell_type": "code",
   "execution_count": 1,
   "id": "8fea66eb",
   "metadata": {
    "ExecuteTime": {
     "end_time": "2023-07-25T16:02:21.791276Z",
     "start_time": "2023-07-25T16:02:15.796094Z"
    }
   },
   "outputs": [],
   "source": [
    "import numpy as np\n",
    "import matplotlib.pyplot as plt\n",
    "import seaborn as sns\n",
    "import scanpy as sc\n",
    "import pandas as pd\n",
    "import decoupler as dc"
   ]
  },
  {
   "cell_type": "code",
   "execution_count": 2,
   "id": "f3cc759d",
   "metadata": {
    "ExecuteTime": {
     "end_time": "2023-07-25T16:02:22.927316Z",
     "start_time": "2023-07-25T16:02:22.793542Z"
    }
   },
   "outputs": [],
   "source": [
    "import diopy"
   ]
  },
  {
   "cell_type": "code",
   "execution_count": 3,
   "id": "a85a3d33",
   "metadata": {
    "ExecuteTime": {
     "end_time": "2023-07-25T16:02:29.724278Z",
     "start_time": "2023-07-25T16:02:24.796054Z"
    }
   },
   "outputs": [],
   "source": [
    "adata = sc.read(\"/home/lugli/spuccio/Projects/SP025_NaClTcell/singlecell/Analysis/cluster_integrated_with_DESC.h5ad\")"
   ]
  },
  {
   "cell_type": "code",
   "execution_count": 7,
   "id": "fd3c7c5b",
   "metadata": {
    "ExecuteTime": {
     "end_time": "2023-07-25T16:03:46.807587Z",
     "start_time": "2023-07-25T16:03:46.797426Z"
    }
   },
   "outputs": [
    {
     "data": {
      "text/plain": [
       "AAACCCAAGACCATTC-1-0     1\n",
       "AAACCCAAGCCTAGGA-1-0     1\n",
       "AAACCCAAGGTAACTA-1-0     1\n",
       "AAACCCACACAAGCTT-1-0    12\n",
       "AAACCCACAGAAGTTA-1-0     0\n",
       "                        ..\n",
       "TTTGTTGGTGTGTGTT-1-3     2\n",
       "TTTGTTGGTTAGGACG-1-3     0\n",
       "TTTGTTGTCAATCTTC-1-3     3\n",
       "TTTGTTGTCGATTCCC-1-3     2\n",
       "TTTGTTGTCTTGGCTC-1-3    12\n",
       "Name: desc_0.5, Length: 37525, dtype: category\n",
       "Categories (14, int64): [0, 1, 2, 3, ..., 10, 11, 12, 13]"
      ]
     },
     "execution_count": 7,
     "metadata": {},
     "output_type": "execute_result"
    }
   ],
   "source": [
    "adata.obs['desc_0.5']"
   ]
  },
  {
   "cell_type": "code",
   "execution_count": 8,
   "id": "3948c8cb",
   "metadata": {
    "ExecuteTime": {
     "end_time": "2023-07-25T16:03:58.801390Z",
     "start_time": "2023-07-25T16:03:58.795338Z"
    }
   },
   "outputs": [
    {
     "data": {
      "text/plain": [
       "AnnData object with n_obs × n_vars = 37525 × 16566\n",
       "    obs: 'doublet_scores', 'predicted_doublets', 'n_genes_by_counts', 'total_counts', 'total_counts_mt', 'pct_counts_mt', 'total_counts_disaggregation_score', 'pct_counts_disaggregation_score', 'total_counts_rb', 'pct_counts_rb', 'n_genes', 'SampleID', 'Treatment', 'MouseID', 'batch', 'S_score', 'G2M_score', 'phase', 'desc_0.2', 'desc_0.3', 'desc_0.4', 'desc_0.5', 'desc_0.6', 'desc_0.7', 'desc_0.8', 'desc_0.9', 'desc_1.0', 'desc_1.2'\n",
       "    var: 'gene_ids', 'feature_types', 'mt', 'disaggregation_score', 'rb', 'n_cells_by_counts-0', 'mean_counts-0', 'pct_dropout_by_counts-0', 'total_counts-0', 'n_cells-0', 'n_cells_by_counts-1', 'mean_counts-1', 'pct_dropout_by_counts-1', 'total_counts-1', 'n_cells-1', 'n_cells_by_counts-2', 'mean_counts-2', 'pct_dropout_by_counts-2', 'total_counts-2', 'n_cells-2', 'n_cells_by_counts-3', 'mean_counts-3', 'pct_dropout_by_counts-3', 'total_counts-3', 'n_cells-3', 'highly_variable', 'means', 'dispersions', 'dispersions_norm'\n",
       "    uns: 'hvg', 'pca', 'prob_matrix0.2', 'prob_matrix0.3', 'prob_matrix0.4', 'prob_matrix0.5', 'prob_matrix0.6', 'prob_matrix0.7', 'prob_matrix0.8', 'prob_matrix0.9', 'prob_matrix1.0', 'prob_matrix1.2', 'umap', 'desc_0.5_colors'\n",
       "    obsm: 'X_Embeded_z0.2', 'X_Embeded_z0.3', 'X_Embeded_z0.4', 'X_Embeded_z0.5', 'X_Embeded_z0.6', 'X_Embeded_z0.7', 'X_Embeded_z0.8', 'X_Embeded_z0.9', 'X_Embeded_z1.0', 'X_Embeded_z1.2', 'X_pca', 'X_umap', 'X_umap0.2', 'X_umap0.3', 'X_umap0.4', 'X_umap0.5', 'X_umap0.6', 'X_umap0.7', 'X_umap0.8', 'X_umap0.9', 'X_umap1.0', 'X_umap1.2'\n",
       "    varm: 'PCs'\n",
       "    layers: 'log1p', 'norm_data', 'raw_counts', 'regressed', 'scaled', 'scaled_regressed'\n",
       "    obsp: 'connectivities', 'distances'"
      ]
     },
     "execution_count": 8,
     "metadata": {},
     "output_type": "execute_result"
    }
   ],
   "source": [
    "adata.layers"
   ]
  },
  {
   "cell_type": "code",
   "execution_count": 6,
   "id": "977320c2",
   "metadata": {
    "ExecuteTime": {
     "end_time": "2023-07-25T16:03:30.232120Z",
     "start_time": "2023-07-25T16:03:29.797469Z"
    }
   },
   "outputs": [
    {
     "data": {
      "image/png": "[encoded data removed]",
      "text/plain": [
       "<Figure size 432x288 with 1 Axes>"
      ]
     },
     "metadata": {},
     "output_type": "display_data"
    }
   ],
   "source": [
    "sc.pl.umap(adata, color=['desc_0.5'],s=2,cmap=\"Paired_r\")"
   ]
  },
  {
   "cell_type": "code",
   "execution_count": 4,
   "id": "178cfaca",
   "metadata": {
    "ExecuteTime": {
     "end_time": "2023-07-17T16:18:18.011289Z",
     "start_time": "2023-07-17T16:18:18.008808Z"
    }
   },
   "outputs": [],
   "source": [
    "import pandas as pd"
   ]
  },
  {
   "cell_type": "code",
   "execution_count": 53,
   "id": "2972f37b",
   "metadata": {
    "ExecuteTime": {
     "end_time": "2022-11-02T15:25:31.862619Z",
     "start_time": "2022-11-02T15:25:30.648519Z"
    }
   },
   "outputs": [],
   "source": [
    "log1p = pd.DataFrame(adata.layers['log1p'].A,columns=adata.var.index,index=adata.obs.index)"
   ]
  },
  {
   "cell_type": "code",
   "execution_count": 54,
   "id": "f9c021b2",
   "metadata": {
    "ExecuteTime": {
     "end_time": "2022-11-02T15:31:25.726504Z",
     "start_time": "2022-11-02T15:26:11.629702Z"
    }
   },
   "outputs": [],
   "source": [
    "log1p.to_csv(\"/home/lugli/spuccio/Projects/SP025_NaClTcell/singlecell/Analysis/log1p_marco.csv\",sep=\"\\t\",header=True,index=True)"
   ]
  },
  {
   "cell_type": "code",
   "execution_count": 55,
   "id": "d7a52062",
   "metadata": {
    "ExecuteTime": {
     "end_time": "2022-11-02T15:31:27.065723Z",
     "start_time": "2022-11-02T15:31:25.878476Z"
    }
   },
   "outputs": [],
   "source": [
    "raw_counts = pd.DataFrame(adata.layers['raw_counts'].A,columns=adata.var.index,index=adata.obs.index)"
   ]
  },
  {
   "cell_type": "code",
   "execution_count": 56,
   "id": "3ac81c39",
   "metadata": {
    "ExecuteTime": {
     "end_time": "2022-11-02T15:36:20.326240Z",
     "start_time": "2022-11-02T15:31:27.706818Z"
    }
   },
   "outputs": [],
   "source": [
    "raw_counts.to_csv(\"/home/lugli/spuccio/Projects/SP025_NaClTcell/singlecell/Analysis/raw_counts_marco.csv\",\n",
    "                  sep=\"\\t\",header=True,index=True)"
   ]
  },
  {
   "cell_type": "code",
   "execution_count": 59,
   "id": "c49de4a0",
   "metadata": {
    "ExecuteTime": {
     "end_time": "2022-11-02T15:38:21.813199Z",
     "start_time": "2022-11-02T15:38:20.973734Z"
    }
   },
   "outputs": [],
   "source": [
    "adata.obs.to_csv(\"/home/lugli/spuccio/Projects/SP025_NaClTcell/singlecell/Analysis/metadata_marco.csv\",\n",
    "                  sep=\"\\t\",header=True,index=True)"
   ]
  },
  {
   "cell_type": "code",
   "execution_count": 60,
   "id": "5615ac2b",
   "metadata": {
    "ExecuteTime": {
     "end_time": "2022-11-02T15:38:35.975176Z",
     "start_time": "2022-11-02T15:38:35.456283Z"
    }
   },
   "outputs": [],
   "source": [
    "adata.var.to_csv(\"/home/lugli/spuccio/Projects/SP025_NaClTcell/singlecell/Analysis/gene_info_marco.csv\",\n",
    "                  sep=\"\\t\",header=True,index=True)"
   ]
  },
  {
   "cell_type": "code",
   "execution_count": null,
   "id": "b369ab55",
   "metadata": {},
   "outputs": [],
   "source": []
  }
 ],
 "metadata": {
  "kernelspec": {
   "display_name": "Python [conda env:singlecell]",
   "language": "python",
   "name": "conda-env-singlecell-py"
  },
  "language_info": {
   "codemirror_mode": {
    "name": "ipython",
    "version": 3
   },
   "file_extension": ".py",
   "mimetype": "text/x-python",
   "name": "python",
   "nbconvert_exporter": "python",
   "pygments_lexer": "ipython3",
   "version": "3.9.4"
  },
  "toc": {
   "base_numbering": 1,
   "nav_menu": {},
   "number_sections": true,
   "sideBar": true,
   "skip_h1_title": false,
   "title_cell": "Table of Contents",
   "title_sidebar": "Contents",
   "toc_cell": false,
   "toc_position": {},
   "toc_section_display": true,
   "toc_window_display": false
  },
  "varInspector": {
   "cols": {
    "lenName": 16,
    "lenType": 16,
    "lenVar": 40
   },
   "kernels_config": {
    "python": {
     "delete_cmd_postfix": "",
     "delete_cmd_prefix": "del ",
     "library": "var_list.py",
     "varRefreshCmd": "print(var_dic_list())"
    },
    "r": {
     "delete_cmd_postfix": ") ",
     "delete_cmd_prefix": "rm(",
     "library": "var_list.r",
     "varRefreshCmd": "cat(var_dic_list()) "
    }
   },
   "types_to_exclude": [
    "module",
    "function",
    "builtin_function_or_method",
    "instance",
    "_Feature"
   ],
   "window_display": false
  }
 },
 "nbformat": 4,
 "nbformat_minor": 5
}
