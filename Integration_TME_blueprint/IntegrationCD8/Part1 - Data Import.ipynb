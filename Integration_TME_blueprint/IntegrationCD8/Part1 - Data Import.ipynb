{
 "cells": [
  {
   "cell_type": "code",
   "execution_count": 1,
   "id": "57b5fcbc",
   "metadata": {
    "ExecuteTime": {
     "end_time": "2023-02-08T10:20:49.275559Z",
     "start_time": "2023-02-08T10:20:47.240777Z"
    }
   },
   "outputs": [],
   "source": [
    "import scanpy as sc\n",
    "import numpy as np\n",
    "import scipy as sp\n",
    "import pandas as pd\n",
    "import matplotlib.pyplot as plt\n",
    "from matplotlib import rcParams\n",
    "from matplotlib import colors\n",
    "import seaborn as sb\n",
    "#from gprofiler import GProfiler\n",
    "#import loompy as lp\n",
    "import rpy2.rinterface_lib.callbacks\n",
    "import logging\n",
    "import scrublet as scr\n",
    "#from rpy2.robjects import pandas2ri\n",
    "#import anndata2ri\n",
    "import warnings\n",
    "warnings.filterwarnings('ignore')\n",
    "import os              \n",
    "os.environ['PYTHONHASHSEED'] = '0'\n",
    "sc.settings.set_figure_params(dpi=100, facecolor='white')"
   ]
  },
  {
   "cell_type": "markdown",
   "id": "564dc85c",
   "metadata": {},
   "source": [
    "#### Load Dataset Lung"
   ]
  },
  {
   "cell_type": "code",
   "execution_count": 2,
   "id": "33e2fab6",
   "metadata": {
    "ExecuteTime": {
     "end_time": "2023-02-08T10:20:55.644557Z",
     "start_time": "2023-02-08T10:20:49.279673Z"
    }
   },
   "outputs": [],
   "source": [
    "path_lung=\"/home/lugli/spuccio/Projects/SP025_NaClTcell/PangenomeBlueprint/LC_counts/\"\n",
    "adata_lung = sc.read(\"\".join([path_lung,\"matrix.mtx\"]), cache=True)\n",
    "adata_lung = adata_lung.transpose()\n",
    "adata_lung.X = adata_lung.X.toarray()\n",
    "barcodes = pd.read_csv(\"\".join([path_lung,\"barcodes.tsv\"]), header=None, sep='\\t')\n",
    "genes = pd.read_csv(\"\".join([path_lung,\"genes.tsv\"]), header=None, sep='\\t')\n",
    "#Annotate data\n",
    "barcodes.rename(columns={0:'barcode'}, inplace=True)\n",
    "barcodes.set_index('barcode', inplace=True)\n",
    "adata_lung.obs = barcodes\n",
    "genes.rename(columns={0:'gene_id', 1:'gene_symbol'}, inplace=True)\n",
    "genes.set_index('gene_symbol', inplace=True)\n",
    "adata_lung.var = genes\n",
    "Metadata_lung = pd.read_csv(\"/home/lugli/spuccio/Projects/SP025_NaClTcell/PangenomeBlueprint/LC_metadata.csv\",header=0,low_memory=False)"
   ]
  },
  {
   "cell_type": "code",
   "execution_count": 3,
   "id": "9bdb0b8e",
   "metadata": {
    "ExecuteTime": {
     "end_time": "2023-02-08T10:20:55.745997Z",
     "start_time": "2023-02-08T10:20:55.647608Z"
    }
   },
   "outputs": [],
   "source": [
    "adata_lung.obs['CellId'] = Metadata_lung[\"Cell\"].astype('category')\n",
    "adata_lung.obs['CellFromTumor'] = Metadata_lung[\"CellFromTumor\"].to_list()\n",
    "adata_lung.obs['PatientNumber'] = Metadata_lung[\"PatientNumber\"].to_list()\n",
    "adata_lung.obs['TumorType'] = Metadata_lung[\"TumorType\"].to_list()\n",
    "adata_lung.obs['TumorSite'] = Metadata_lung[\"TumorSite\"].to_list()\n",
    "adata_lung.obs['CellType'] = Metadata_lung[\"CellType\"].to_list()"
   ]
  },
  {
   "cell_type": "markdown",
   "id": "8a64727b",
   "metadata": {},
   "source": [
    "Filter Adenocarcinoma Ptz"
   ]
  },
  {
   "cell_type": "code",
   "execution_count": 4,
   "id": "64f534d3",
   "metadata": {
    "ExecuteTime": {
     "end_time": "2023-02-08T10:20:55.765603Z",
     "start_time": "2023-02-08T10:20:55.748577Z"
    }
   },
   "outputs": [],
   "source": [
    "adenocarcinomacell = (adata_lung.obs['PatientNumber'] == \"Ptz3\") | (adata_lung.obs['PatientNumber'] == \"Ptz4\") | (adata_lung.obs['PatientNumber'] == \"Ptz6\")"
   ]
  },
  {
   "cell_type": "code",
   "execution_count": 5,
   "id": "281580e4",
   "metadata": {
    "ExecuteTime": {
     "end_time": "2023-02-08T10:20:55.777304Z",
     "start_time": "2023-02-08T10:20:55.769513Z"
    }
   },
   "outputs": [
    {
     "data": {
      "text/plain": [
       "array(['Ptz1', 'Ptz2', 'Ptz3', 'Ptz4', 'Ptz5', 'Ptz6', 'Ptz7', 'Ptz8'],\n",
       "      dtype=object)"
      ]
     },
     "execution_count": 5,
     "metadata": {},
     "output_type": "execute_result"
    }
   ],
   "source": [
    "adata_lung.obs['PatientNumber'].unique()"
   ]
  },
  {
   "cell_type": "code",
   "execution_count": 6,
   "id": "ad6497c7",
   "metadata": {
    "ExecuteTime": {
     "end_time": "2023-02-08T10:20:55.791795Z",
     "start_time": "2023-02-08T10:20:55.779748Z"
    }
   },
   "outputs": [],
   "source": [
    "adata_lung = adata_lung[adenocarcinomacell, :]"
   ]
  },
  {
   "cell_type": "code",
   "execution_count": 7,
   "id": "41500b95",
   "metadata": {
    "ExecuteTime": {
     "end_time": "2023-02-08T10:20:59.212374Z",
     "start_time": "2023-02-08T10:20:55.794437Z"
    }
   },
   "outputs": [],
   "source": [
    "mod = {'Ptz3': 'Ptz1',\n",
    "     'Ptz4': 'Ptz2',\n",
    "     'Ptz6' : 'Ptz3'}\n",
    "adata_lung.obs['PatientNumber'] = adata_lung.obs['PatientNumber'].map(mod).astype('category')"
   ]
  },
  {
   "cell_type": "code",
   "execution_count": 8,
   "id": "91b70f0b",
   "metadata": {
    "ExecuteTime": {
     "end_time": "2023-02-08T10:20:59.220703Z",
     "start_time": "2023-02-08T10:20:59.216140Z"
    }
   },
   "outputs": [
    {
     "data": {
      "text/plain": [
       "['Ptz1', 'Ptz2', 'Ptz3']\n",
       "Categories (3, object): ['Ptz1', 'Ptz2', 'Ptz3']"
      ]
     },
     "execution_count": 8,
     "metadata": {},
     "output_type": "execute_result"
    }
   ],
   "source": [
    "adata_lung.obs['PatientNumber'].unique()"
   ]
  },
  {
   "cell_type": "markdown",
   "id": "8fcacd49",
   "metadata": {},
   "source": [
    "adata_lung_Tcell = adata_lung[adata_lung.obs['CellType']  == \"T_cell\",:]\n",
    "adata_lung_Cancer = adata_lung[adata_lung.obs['CellType']  == \"Cancer\",:]"
   ]
  },
  {
   "cell_type": "markdown",
   "id": "dde3d684",
   "metadata": {},
   "source": [
    "#### Load Dataset BC"
   ]
  },
  {
   "cell_type": "code",
   "execution_count": 9,
   "id": "1768e7c9",
   "metadata": {
    "ExecuteTime": {
     "end_time": "2023-02-08T10:21:02.785099Z",
     "start_time": "2023-02-08T10:20:59.223494Z"
    }
   },
   "outputs": [],
   "source": [
    "path_bc=\"/home/lugli/spuccio/Projects/SP025_NaClTcell/PangenomeBlueprint/BC_counts/\"\n",
    "adata_bc = sc.read(\"\".join([path_bc,\"matrix.mtx\"]), cache=True)\n",
    "adata_bc = adata_bc.transpose()\n",
    "adata_bc.X = adata_bc.X.toarray()\n",
    "barcodes = pd.read_csv(\"\".join([path_bc,\"barcodes.tsv\"]), header=None, sep='\\t')\n",
    "genes = pd.read_csv(\"\".join([path_bc,\"genes.tsv\"]), header=None, sep='\\t')\n",
    "#Annotate data\n",
    "barcodes.rename(columns={0:'barcode'}, inplace=True)\n",
    "barcodes.set_index('barcode', inplace=True)\n",
    "adata_bc.obs = barcodes\n",
    "genes.rename(columns={0:'gene_id', 1:'gene_symbol'}, inplace=True)\n",
    "genes.set_index('gene_symbol', inplace=True)\n",
    "adata_bc.var = genes\n",
    "Metadata_bc = pd.read_csv(\"/home/lugli/spuccio/Projects/SP025_NaClTcell/PangenomeBlueprint/BC_metadata.csv\",header=0,low_memory=False)\n",
    "adata_bc.obs['CellId'] = Metadata_bc[\"Cell\"].to_list()\n",
    "adata_bc.obs['CellFromTumor'] = Metadata_bc[\"CellFromTumor\"].to_list()\n",
    "adata_bc.obs['PatientNumber'] = Metadata_bc[\"PatientNumber\"].to_list()\n",
    "adata_bc.obs['TumorType'] = Metadata_bc[\"TumorType\"].to_list()\n",
    "adata_bc.obs['TumorSite'] = Metadata_bc[\"TumorSite\"].to_list()\n",
    "adata_bc.obs['CellType'] = Metadata_bc[\"CellType\"].to_list()"
   ]
  },
  {
   "cell_type": "code",
   "execution_count": 10,
   "id": "c668155e",
   "metadata": {
    "ExecuteTime": {
     "end_time": "2023-02-08T10:21:02.793227Z",
     "start_time": "2023-02-08T10:21:02.788330Z"
    }
   },
   "outputs": [
    {
     "data": {
      "text/plain": [
       "array(['Ptz41', 'Ptz42', 'Ptz43', 'Ptz44', 'Ptz45', 'Ptz46', 'Ptz47',\n",
       "       'Ptz48', 'Ptz49', 'Ptz50', 'Ptz51', 'Ptz52', 'Ptz53', 'Ptz54'],\n",
       "      dtype=object)"
      ]
     },
     "execution_count": 10,
     "metadata": {},
     "output_type": "execute_result"
    }
   ],
   "source": [
    "adata_bc.obs['PatientNumber'].unique()"
   ]
  },
  {
   "cell_type": "code",
   "execution_count": 11,
   "id": "6c764100",
   "metadata": {
    "ExecuteTime": {
     "end_time": "2023-02-08T10:21:02.803454Z",
     "start_time": "2023-02-08T10:21:02.796110Z"
    }
   },
   "outputs": [],
   "source": [
    "mod = {'Ptz41': 'Ptz4',\n",
    "     'Ptz42': 'Ptz5',\n",
    "     'Ptz43' : 'Ptz6',\n",
    "     'Ptz44' : 'Ptz7',\n",
    "     'Ptz45': 'Ptz8',\n",
    "     'Ptz46': 'Ptz9',\n",
    "     'Ptz47' : 'Ptz10',\n",
    "     'Ptz48' : 'Ptz11',\n",
    "     'Ptz49': 'Ptz12',\n",
    "     'Ptz50': 'Ptz13',\n",
    "     'Ptz51' : 'Ptz14',\n",
    "     'Ptz52' : 'Ptz15',\n",
    "     'Ptz53': 'Ptz16',\n",
    "     'Ptz54': 'Ptz17'}\n",
    "adata_bc.obs['PatientNumber'] = adata_bc.obs['PatientNumber'].map(mod).astype('category')"
   ]
  },
  {
   "cell_type": "code",
   "execution_count": 12,
   "id": "c2360edc",
   "metadata": {
    "ExecuteTime": {
     "end_time": "2023-02-08T10:21:02.809462Z",
     "start_time": "2023-02-08T10:21:02.805911Z"
    }
   },
   "outputs": [
    {
     "data": {
      "text/plain": [
       "['Ptz4', 'Ptz5', 'Ptz6', 'Ptz7', 'Ptz8', ..., 'Ptz13', 'Ptz14', 'Ptz15', 'Ptz16', 'Ptz17']\n",
       "Length: 14\n",
       "Categories (14, object): ['Ptz10', 'Ptz11', 'Ptz12', 'Ptz13', ..., 'Ptz6', 'Ptz7', 'Ptz8', 'Ptz9']"
      ]
     },
     "execution_count": 12,
     "metadata": {},
     "output_type": "execute_result"
    }
   ],
   "source": [
    "adata_bc.obs['PatientNumber'].unique()"
   ]
  },
  {
   "cell_type": "markdown",
   "id": "78b173de",
   "metadata": {},
   "source": [
    "#### Load Dataset OC"
   ]
  },
  {
   "cell_type": "code",
   "execution_count": 13,
   "id": "62efc18d",
   "metadata": {
    "ExecuteTime": {
     "end_time": "2023-02-08T10:21:06.091711Z",
     "start_time": "2023-02-08T10:21:02.812028Z"
    }
   },
   "outputs": [],
   "source": [
    "path_oc=\"/home/lugli/spuccio/Projects/SP025_NaClTcell/PangenomeBlueprint/OvC_counts/\"\n",
    "adata_oc = sc.read(\"\".join([path_oc,\"matrix.mtx\"]), cache=True)\n",
    "adata_oc = adata_oc.transpose()\n",
    "adata_oc.X = adata_oc.X.toarray()\n",
    "barcodes = pd.read_csv(\"\".join([path_oc,\"barcodes.tsv\"]), header=None, sep='\\t')\n",
    "genes = pd.read_csv(\"\".join([path_oc,\"genes.tsv\"]), header=None, sep='\\t')\n",
    "#Annotate data\n",
    "barcodes.rename(columns={0:'barcode'}, inplace=True)\n",
    "barcodes.set_index('barcode', inplace=True)\n",
    "adata_oc.obs = barcodes\n",
    "genes.rename(columns={0:'gene_id', 1:'gene_symbol'}, inplace=True)\n",
    "genes.set_index('gene_symbol', inplace=True)\n",
    "adata_oc.var = genes\n",
    "Metadata_oc = pd.read_csv(\"/home/lugli/spuccio/Projects/SP025_NaClTcell/PangenomeBlueprint/OvC_metadata.csv\",header=0,low_memory=False)\n",
    "adata_oc.obs['CellId'] = Metadata_oc[\"Cell\"].to_list()\n",
    "adata_oc.obs['CellFromTumor'] = Metadata_oc[\"CellFromTumor\"].to_list()\n",
    "adata_oc.obs['PatientNumber'] = Metadata_oc[\"PatientNumber\"].to_list()\n",
    "adata_oc.obs['TumorType'] = Metadata_oc[\"TumorType\"].to_list()\n",
    "adata_oc.obs['TumorSite'] = Metadata_oc[\"TumorSite\"].to_list()\n",
    "adata_oc.obs['CellType'] = Metadata_oc[\"CellType\"].to_list()"
   ]
  },
  {
   "cell_type": "code",
   "execution_count": 14,
   "id": "a09fd884",
   "metadata": {
    "ExecuteTime": {
     "end_time": "2023-02-08T10:21:06.099396Z",
     "start_time": "2023-02-08T10:21:06.094711Z"
    }
   },
   "outputs": [
    {
     "data": {
      "text/plain": [
       "array(['Ptz11', 'Ptz12', 'Ptz13', 'Ptz14', 'Ptz15'], dtype=object)"
      ]
     },
     "execution_count": 14,
     "metadata": {},
     "output_type": "execute_result"
    }
   ],
   "source": [
    "adata_oc.obs['PatientNumber'].unique()"
   ]
  },
  {
   "cell_type": "code",
   "execution_count": 15,
   "id": "2fb6c244",
   "metadata": {
    "ExecuteTime": {
     "end_time": "2023-02-08T10:21:06.109614Z",
     "start_time": "2023-02-08T10:21:06.102324Z"
    }
   },
   "outputs": [],
   "source": [
    "mod = {'Ptz11': 'Ptz18',\n",
    "     'Ptz12': 'Ptz19',\n",
    "     'Ptz13' : 'Ptz20',\n",
    "     'Ptz14' : 'Ptz21',\n",
    "     'Ptz15': 'Ptz22'}\n",
    "adata_oc.obs['PatientNumber'] = adata_oc.obs['PatientNumber'].map(mod).astype('category')"
   ]
  },
  {
   "cell_type": "code",
   "execution_count": 16,
   "id": "6fc00bd0",
   "metadata": {
    "ExecuteTime": {
     "end_time": "2023-02-08T10:21:06.115620Z",
     "start_time": "2023-02-08T10:21:06.112248Z"
    }
   },
   "outputs": [
    {
     "data": {
      "text/plain": [
       "['Ptz18', 'Ptz19', 'Ptz20', 'Ptz21', 'Ptz22']\n",
       "Categories (5, object): ['Ptz18', 'Ptz19', 'Ptz20', 'Ptz21', 'Ptz22']"
      ]
     },
     "execution_count": 16,
     "metadata": {},
     "output_type": "execute_result"
    }
   ],
   "source": [
    "adata_oc.obs['PatientNumber'].unique()"
   ]
  },
  {
   "cell_type": "markdown",
   "id": "e7744dc6",
   "metadata": {},
   "source": [
    "#### Load Dataset CRC"
   ]
  },
  {
   "cell_type": "code",
   "execution_count": 17,
   "id": "b55e6a0b",
   "metadata": {
    "ExecuteTime": {
     "end_time": "2023-02-08T10:21:09.480798Z",
     "start_time": "2023-02-08T10:21:06.118275Z"
    }
   },
   "outputs": [],
   "source": [
    "path_CRC=\"/home/lugli/spuccio/Projects/SP025_NaClTcell/PangenomeBlueprint/CRC_counts/\"\n",
    "adata_CRC = sc.read(\"\".join([path_CRC,\"matrix.mtx\"]), cache=True)\n",
    "adata_CRC = adata_CRC.transpose()\n",
    "adata_CRC.X = adata_CRC.X.toarray()\n",
    "barcodes = pd.read_csv(\"\".join([path_CRC,\"barcodes.tsv\"]), header=None, sep='\\t')\n",
    "genes = pd.read_csv(\"\".join([path_CRC,\"genes.tsv\"]), header=None, sep='\\t')\n",
    "#Annotate data\n",
    "barcodes.rename(columns={0:'barcode'}, inplace=True)\n",
    "barcodes.set_index('barcode', inplace=True)\n",
    "adata_CRC.obs = barcodes\n",
    "genes.rename(columns={0:'gene_id', 1:'gene_symbol'}, inplace=True)\n",
    "genes.set_index('gene_symbol', inplace=True)\n",
    "adata_CRC.var = genes\n",
    "Metadata_CRC = pd.read_csv(\"/home/lugli/spuccio/Projects/SP025_NaClTcell/PangenomeBlueprint/CRC_metadata_2.csv\",header=0,low_memory=False)\n",
    "adata_CRC.obs['CellId'] = Metadata_CRC[\"Cell\"].to_list()\n",
    "adata_CRC.obs['CellFromTumor'] = Metadata_CRC[\"CellFromTumor\"].to_list()\n",
    "adata_CRC.obs['PatientNumber'] = Metadata_CRC[\"PTZ_PatientNumber\"].to_list()\n",
    "adata_CRC.obs['TumorType'] = Metadata_CRC[\"TumorType\"].to_list()\n",
    "adata_CRC.obs['TumorSite'] = Metadata_CRC[\"TumorSite\"].to_list()\n",
    "adata_CRC.obs['CellType'] = Metadata_CRC[\"CellType\"].to_list()"
   ]
  },
  {
   "cell_type": "code",
   "execution_count": 18,
   "id": "2e8d883b",
   "metadata": {
    "ExecuteTime": {
     "end_time": "2023-02-08T10:21:09.489076Z",
     "start_time": "2023-02-08T10:21:09.484053Z"
    }
   },
   "outputs": [
    {
     "data": {
      "text/plain": [
       "array(['PTZ_31', 'PTZ_32', 'PTZ_33', 'PTZ_35', 'PTZ_36', 'PTZ_37',\n",
       "       'PTZ_38'], dtype=object)"
      ]
     },
     "execution_count": 18,
     "metadata": {},
     "output_type": "execute_result"
    }
   ],
   "source": [
    "adata_CRC.obs['PatientNumber'].unique()"
   ]
  },
  {
   "cell_type": "code",
   "execution_count": 19,
   "id": "592bd31c",
   "metadata": {
    "ExecuteTime": {
     "end_time": "2023-02-08T10:21:09.502319Z",
     "start_time": "2023-02-08T10:21:09.494582Z"
    }
   },
   "outputs": [],
   "source": [
    "mod = {'PTZ_31': 'Ptz23',\n",
    "     'PTZ_32': 'Ptz24',\n",
    "     'PTZ_33' : 'Ptz25',\n",
    "     'PTZ_35': 'Ptz26',\n",
    "     'PTZ_36' : 'Ptz27',\n",
    "     'PTZ_37': 'Ptz28',\n",
    "     'PTZ_38': 'Ptz29'}\n",
    "adata_CRC.obs['PatientNumber'] = adata_CRC.obs['PatientNumber'].map(mod).astype('category')"
   ]
  },
  {
   "cell_type": "code",
   "execution_count": 20,
   "id": "13d37740",
   "metadata": {
    "ExecuteTime": {
     "end_time": "2023-02-08T10:21:09.513944Z",
     "start_time": "2023-02-08T10:21:09.504979Z"
    }
   },
   "outputs": [
    {
     "data": {
      "text/plain": [
       "['Ptz23', 'Ptz24', 'Ptz25', 'Ptz26', 'Ptz27', 'Ptz28', 'Ptz29']\n",
       "Categories (7, object): ['Ptz23', 'Ptz24', 'Ptz25', 'Ptz26', 'Ptz27', 'Ptz28', 'Ptz29']"
      ]
     },
     "execution_count": 20,
     "metadata": {},
     "output_type": "execute_result"
    }
   ],
   "source": [
    "adata_CRC.obs['PatientNumber'].unique()"
   ]
  },
  {
   "cell_type": "markdown",
   "id": "214d6d9e",
   "metadata": {},
   "source": [
    "#### Data concatenation"
   ]
  },
  {
   "cell_type": "code",
   "execution_count": 21,
   "id": "310af0ec",
   "metadata": {
    "ExecuteTime": {
     "end_time": "2023-02-08T10:22:59.698536Z",
     "start_time": "2023-02-08T10:22:51.444667Z"
    }
   },
   "outputs": [],
   "source": [
    "adata = adata_lung.concatenate(adata_bc,adata_CRC,adata_oc,index_unique=None)"
   ]
  },
  {
   "cell_type": "code",
   "execution_count": 24,
   "id": "697ee28f",
   "metadata": {
    "ExecuteTime": {
     "end_time": "2023-02-08T10:24:29.528291Z",
     "start_time": "2023-02-08T10:23:22.162154Z"
    }
   },
   "outputs": [],
   "source": [
    "adata.write(\"/home/lugli/spuccio/Projects/SP025_NaClTcell/Analysis/Allcell.h5ad\")"
   ]
  },
  {
   "cell_type": "code",
   "execution_count": 25,
   "id": "2bed4ece",
   "metadata": {
    "ExecuteTime": {
     "end_time": "2023-02-08T10:29:17.165455Z",
     "start_time": "2023-02-08T10:29:07.619206Z"
    }
   },
   "outputs": [],
   "source": [
    "adata.raw = adata"
   ]
  },
  {
   "cell_type": "code",
   "execution_count": 26,
   "id": "db36deef",
   "metadata": {
    "ExecuteTime": {
     "end_time": "2023-02-08T10:29:18.286135Z",
     "start_time": "2023-02-08T10:29:18.281837Z"
    }
   },
   "outputs": [
    {
     "data": {
      "text/plain": [
       "(174834, 33694)"
      ]
     },
     "execution_count": 26,
     "metadata": {},
     "output_type": "execute_result"
    }
   ],
   "source": [
    "adata.shape"
   ]
  },
  {
   "cell_type": "code",
   "execution_count": 27,
   "id": "a99a6ee3",
   "metadata": {
    "ExecuteTime": {
     "end_time": "2023-02-08T10:29:20.341509Z",
     "start_time": "2023-02-08T10:29:20.338235Z"
    }
   },
   "outputs": [],
   "source": [
    "del adata_lung\n",
    "del adata_bc\n",
    "del adata_CRC\n",
    "del adata_oc"
   ]
  },
  {
   "cell_type": "markdown",
   "id": "1b15b929",
   "metadata": {},
   "source": [
    "#### Remove Ribo/Mito genes"
   ]
  },
  {
   "cell_type": "code",
   "execution_count": 28,
   "id": "b7b7d262",
   "metadata": {
    "ExecuteTime": {
     "end_time": "2023-02-08T10:29:25.254373Z",
     "start_time": "2023-02-08T10:29:25.159642Z"
    }
   },
   "outputs": [
    {
     "name": "stdout",
     "output_type": "stream",
     "text": [
      "174834 33694\n",
      "174834 33487\n"
     ]
    }
   ],
   "source": [
    "print(adata.n_obs, adata.n_vars)\n",
    "mito_genes = adata.var_names.str.startswith('MT')\n",
    "ribo_genes = adata.var_names.str.startswith((\"RPS\",\"RPL\"))\n",
    "remove = np.add(ribo_genes, mito_genes)\n",
    "keep = np.invert(remove)\n",
    "\n",
    "adata = adata[:,keep]\n",
    "\n",
    "print(adata.n_obs, adata.n_vars)"
   ]
  },
  {
   "cell_type": "code",
   "execution_count": 30,
   "id": "fa13b5a2",
   "metadata": {
    "ExecuteTime": {
     "end_time": "2023-02-08T10:33:01.297673Z",
     "start_time": "2023-02-08T10:30:38.369780Z"
    }
   },
   "outputs": [],
   "source": [
    "adata.raw = adata"
   ]
  },
  {
   "cell_type": "code",
   "execution_count": 31,
   "id": "9a6a7107",
   "metadata": {
    "ExecuteTime": {
     "end_time": "2023-02-08T10:33:57.165775Z",
     "start_time": "2023-02-08T10:33:57.161199Z"
    }
   },
   "outputs": [],
   "source": [
    "adata.layers['counts'] = adata.X"
   ]
  },
  {
   "cell_type": "code",
   "execution_count": 32,
   "id": "9e97906b",
   "metadata": {
    "ExecuteTime": {
     "end_time": "2023-02-08T10:36:02.405041Z",
     "start_time": "2023-02-08T10:34:45.159705Z"
    }
   },
   "outputs": [],
   "source": [
    "sc.pp.normalize_total(adata, target_sum=1e4,exclude_highly_expressed=True)\n",
    "sc.pp.log1p(adata)\n",
    "#adata.raw = adata"
   ]
  },
  {
   "cell_type": "code",
   "execution_count": 33,
   "id": "8167cdfb",
   "metadata": {
    "ExecuteTime": {
     "end_time": "2023-02-08T10:41:10.535376Z",
     "start_time": "2023-02-08T10:36:02.607864Z"
    }
   },
   "outputs": [],
   "source": [
    "adata.write(\"/home/lugli/spuccio/Projects/SP025_NaClTcell/Analysis/adata.h5ad\")"
   ]
  },
  {
   "cell_type": "code",
   "execution_count": null,
   "id": "178a6e5a",
   "metadata": {},
   "outputs": [],
   "source": []
  }
 ],
 "metadata": {
  "kernelspec": {
   "display_name": "Python [conda env:scanpy19]",
   "language": "python",
   "name": "conda-env-scanpy19-py"
  },
  "language_info": {
   "codemirror_mode": {
    "name": "ipython",
    "version": 3
   },
   "file_extension": ".py",
   "mimetype": "text/x-python",
   "name": "python",
   "nbconvert_exporter": "python",
   "pygments_lexer": "ipython3",
   "version": "3.10.4"
  },
  "toc": {
   "base_numbering": 1,
   "nav_menu": {},
   "number_sections": true,
   "sideBar": true,
   "skip_h1_title": false,
   "title_cell": "Table of Contents",
   "title_sidebar": "Contents",
   "toc_cell": false,
   "toc_position": {},
   "toc_section_display": true,
   "toc_window_display": false
  },
  "varInspector": {
   "cols": {
    "lenName": 16,
    "lenType": 16,
    "lenVar": 40
   },
   "kernels_config": {
    "python": {
     "delete_cmd_postfix": "",
     "delete_cmd_prefix": "del ",
     "library": "var_list.py",
     "varRefreshCmd": "print(var_dic_list())"
    },
    "r": {
     "delete_cmd_postfix": ") ",
     "delete_cmd_prefix": "rm(",
     "library": "var_list.r",
     "varRefreshCmd": "cat(var_dic_list()) "
    }
   },
   "types_to_exclude": [
    "module",
    "function",
    "builtin_function_or_method",
    "instance",
    "_Feature"
   ],
   "window_display": false
  }
 },
 "nbformat": 4,
 "nbformat_minor": 5
}
